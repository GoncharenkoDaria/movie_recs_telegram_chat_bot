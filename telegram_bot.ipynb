{
 "cells": [
  {
   "cell_type": "markdown",
   "id": "4f1a49de",
   "metadata": {},
   "source": [
    "# Создаем телеграм Бот на основе модели."
   ]
  },
  {
   "cell_type": "markdown",
   "id": "85b6e70a",
   "metadata": {},
   "source": [
    "Вызов модели, проверка"
   ]
  },
  {
   "cell_type": "code",
   "execution_count": 1,
   "id": "751298cf",
   "metadata": {},
   "outputs": [
    {
     "name": "stdout",
     "output_type": "stream",
     "text": [
      "65               The Dark Knight\n",
      "119                Batman Begins\n",
      "4638    Amidst the Devil's Wings\n",
      "1196                The Prestige\n",
      "3073           Romeo Is Bleeding\n",
      "3326              Black November\n",
      "1503                      Takers\n",
      "1986                      Faster\n",
      "303                     Catwoman\n",
      "747               Gangster Squad\n",
      "Name: title, dtype: object\n"
     ]
    }
   ],
   "source": [
    "import pickle\n",
    "\n",
    "with open('movie_recommender_model.pkl', 'rb') as f:\n",
    "    model = pickle.load(f)\n",
    "\n",
    "count_vectorizer = model['count_vectorizer']\n",
    "cosine_sim = model['cosine_sim']\n",
    "indices = model['indices']\n",
    "movie_titles = model['movie_titles']\n",
    "\n",
    "def get_recommendations(title, cosine_sim=cosine_sim):\n",
    "    idx = indices[title]\n",
    "    sim_scores = list(enumerate(cosine_sim[idx]))\n",
    "    sim_scores = sorted(sim_scores, key=lambda x: x[1], reverse=True)\n",
    "    sim_scores = sim_scores[1:11]\n",
    "    movie_indices = [i[0] for i in sim_scores]\n",
    "    return movie_titles.iloc[movie_indices]\n",
    "\n",
    "print(get_recommendations(\"The Dark Knight Rises\"))"
   ]
  },
  {
   "cell_type": "code",
   "execution_count": null,
   "id": "66f5493f",
   "metadata": {},
   "outputs": [
    {
     "name": "stdout",
     "output_type": "stream",
     "text": [
      "🚀 Запуск бота...\n",
      "🔎 Бот запущен и слушает сообщения...\n"
     ]
    }
   ],
   "source": [
    "import nest_asyncio\n",
    "nest_asyncio.apply()\n",
    "import pickle\n",
    "import pandas as pd\n",
    "import pytz\n",
    "import asyncio\n",
    "from telegram import Update\n",
    "from telegram.ext import (\n",
    "    Application,\n",
    "    CommandHandler,\n",
    "    MessageHandler,\n",
    "    filters,\n",
    "    ContextTypes,\n",
    ")\n",
    "\n",
    "# Загрузка модели\n",
    "with open('movie_recommender_model.pkl', 'rb') as f:\n",
    "    model = pickle.load(f)\n",
    "\n",
    "count_vectorizer = model['count_vectorizer']\n",
    "cosine_sim = model['cosine_sim']\n",
    "indices = model['indices']\n",
    "movie_titles = model['movie_titles']\n",
    "\n",
    "def get_recommendations(title):\n",
    "    try:\n",
    "        idx = indices[title]\n",
    "        sim_scores = list(enumerate(cosine_sim[idx]))\n",
    "        sim_scores = sorted(sim_scores, key=lambda x: x[1], reverse=True)\n",
    "        sim_scores = sim_scores[1:11]\n",
    "        movie_indices = [i[0] for i in sim_scores]\n",
    "        return movie_titles.iloc[movie_indices]\n",
    "    except KeyError:\n",
    "        return None\n",
    "\n",
    "# Команды бота\n",
    "async def start_command(update: Update, context: ContextTypes.DEFAULT_TYPE):\n",
    "    await update.message.reply_text(\n",
    "        \"🎬 Привет! Я бот для рекомендации фильмов.\\n\"\n",
    "        \"Напиши название фильма, и я предложу похожие.\"\n",
    "    )\n",
    "\n",
    "async def help_command(update: Update, context: ContextTypes.DEFAULT_TYPE):\n",
    "    await update.message.reply_text(\n",
    "        \"📌 Просто отправь мне название фильма, который тебе нравится,\\n\"\n",
    "        \"и я найду 10 похожих фильмов.\\n\\n\"\n",
    "        \"Команды:\\n\"\n",
    "        \"/start - начать работу\\n\"\n",
    "        \"/help - справка\"\n",
    "    )\n",
    "\n",
    "async def handle_message(update: Update, context: ContextTypes.DEFAULT_TYPE):\n",
    "    user_message = update.message.text\n",
    "    recommendations = get_recommendations(user_message)\n",
    "    \n",
    "    if recommendations is not None:\n",
    "        response = \"🍿 Похожие фильмы:\\n\\n\" + \"\\n\".join(recommendations)\n",
    "    else:\n",
    "        response = \"❌ Фильм не найден. Проверьте название или попробуйте другой.\"\n",
    "    \n",
    "    await update.message.reply_text(response)\n",
    "\n",
    "async def error_handler(update: Update, context: ContextTypes.DEFAULT_TYPE):\n",
    "    print(f\"Ошибка: {context.error}\")\n",
    "    await update.message.reply_text(\"⚠️ Произошла ошибка. Попробуйте позже.\")\n",
    "\n",
    "async def main():\n",
    "    print(\"🚀 Запуск бота...\")\n",
    "    \n",
    "    application = Application.builder() \\\n",
    "        .token(\"your token\") \\\n",
    "        .arbitrary_callback_data(True) \\\n",
    "        .build()\n",
    "    \n",
    "    application.add_handler(CommandHandler(\"start\", start_command))\n",
    "    application.add_handler(CommandHandler(\"help\", help_command))\n",
    "    application.add_handler(MessageHandler(filters.TEXT & ~filters.COMMAND, handle_message))\n",
    "    application.add_error_handler(error_handler)\n",
    "    \n",
    "    print(\"🔎 Бот запущен и слушает сообщения...\")\n",
    "    await application.run_polling()\n",
    "\n",
    "if __name__ == '__main__':\n",
    "    try:\n",
    "        asyncio.run(main())\n",
    "    except KeyboardInterrupt:\n",
    "        print(\"Бот остановлен\")"
   ]
  }
 ],
 "metadata": {
  "kernelspec": {
   "display_name": "Python 3",
   "language": "python",
   "name": "python3"
  },
  "language_info": {
   "codemirror_mode": {
    "name": "ipython",
    "version": 3
   },
   "file_extension": ".py",
   "mimetype": "text/x-python",
   "name": "python",
   "nbconvert_exporter": "python",
   "pygments_lexer": "ipython3",
   "version": "3.12.9"
  }
 },
 "nbformat": 4,
 "nbformat_minor": 5
}
